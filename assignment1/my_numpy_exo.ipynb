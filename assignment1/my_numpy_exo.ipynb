{
 "cells": [
  {
   "cell_type": "code",
   "execution_count": 3,
   "metadata": {},
   "outputs": [],
   "source": [
    "import numpy as np"
   ]
  },
  {
   "cell_type": "code",
   "execution_count": 4,
   "metadata": {},
   "outputs": [
    {
     "name": "stdout",
     "output_type": "stream",
     "text": [
      "(5, 2) (3, 2)\n",
      "(5, 3, 2)\n"
     ]
    },
    {
     "data": {
      "text/plain": [
       "array([[[-1, -1],\n",
       "        [-3, -3],\n",
       "        [-5, -5]],\n",
       "\n",
       "       [[ 1,  0],\n",
       "        [-1, -2],\n",
       "        [-3, -4]],\n",
       "\n",
       "       [[ 0,  0],\n",
       "        [-2, -2],\n",
       "        [-4, -4]],\n",
       "\n",
       "       [[ 3,  3],\n",
       "        [ 1,  1],\n",
       "        [-1, -1]],\n",
       "\n",
       "       [[ 5,  5],\n",
       "        [ 3,  3],\n",
       "        [ 1,  1]]])"
      ]
     },
     "execution_count": 4,
     "metadata": {},
     "output_type": "execute_result"
    }
   ],
   "source": [
    "x_test = np.array([[2,2], [4,4], [6,6]])\n",
    "x_train = np.array([[1,1], [3,2], [2,2], [5,5], [7,7]])\n",
    "\n",
    "print(x_train.shape,x_test.shape)\n",
    "#m = x_train[:, np.newaxis] - x_test[np.newaxis,:] #(5 x 3)\n",
    "#m.shape\n",
    "#m**2\n",
    "\n",
    "m = x_train[:,np.newaxis,:] - x_test[np.newaxis,: ,: ]#(5x3x2)\n",
    "print(m.shape)\n",
    "m"
   ]
  },
  {
   "cell_type": "code",
   "execution_count": null,
   "metadata": {},
   "outputs": [],
   "source": []
  }
 ],
 "metadata": {
  "kernelspec": {
   "display_name": "Python 3",
   "language": "python",
   "name": "python3"
  },
  "language_info": {
   "codemirror_mode": {
    "name": "ipython",
    "version": 3
   },
   "file_extension": ".py",
   "mimetype": "text/x-python",
   "name": "python",
   "nbconvert_exporter": "python",
   "pygments_lexer": "ipython3",
   "version": "3.7.7"
  }
 },
 "nbformat": 4,
 "nbformat_minor": 4
}
